{
 "cells": [
  {
   "cell_type": "code",
   "execution_count": 1,
   "id": "caf74152",
   "metadata": {},
   "outputs": [
    {
     "name": "stdout",
     "output_type": "stream",
     "text": [
      "Введите числа через пробел:10 9 8 7 \n",
      "4\n"
     ]
    }
   ],
   "source": [
    "",
    "Задание 1\n",
    "",
    "",
    "print(len(set(input(\"Введите числа через пробел:\").split())))"
   ]
  },
  {
   "cell_type": "code",
   "execution_count": 2,
   "id": "8ecdf690",
   "metadata": {},
   "outputs": [
    {
     "name": "stdout",
     "output_type": "stream",
     "text": [
      "[2, 4, 6]\n"
     ]
    }
   ],
   "source": [
    "",
    "Задание 2\n",
    "",
    "",
    "def funcA(a,b):\n",
    "    c = list(set(a) & set(b))\n",
    "    return c\n",
    "\n",
    "a = [1,2,3,4,5,6]\n",
    "b = [2,4,6,8]\n",
    "print(funcA(a,b))"
   ]
  }
 ],
 "metadata": {
  "kernelspec": {
   "display_name": "Python 3 (ipykernel)",
   "language": "python",
   "name": "python3"
  },
  "language_info": {
   "codemirror_mode": {
    "name": "ipython",
    "version": 3
   },
   "file_extension": ".py",
   "mimetype": "text/x-python",
   "name": "python",
   "nbconvert_exporter": "python",
   "pygments_lexer": "ipython3",
   "version": "3.10.0"
  }
 },
 "nbformat": 4,
 "nbformat_minor": 5
}
