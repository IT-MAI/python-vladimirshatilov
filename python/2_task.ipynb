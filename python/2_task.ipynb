{
 "cells": [
  {
   "cell_type": "code",
   "execution_count": 1,
   "id": "94ec7aca",
   "metadata": {},
   "outputs": [
    {
     "name": "stdout",
     "output_type": "stream",
     "text": [
      "2\n",
      "10\n",
      "2.0\n"
     ]
    }
   ],
   "source": [
    "",
    "Задание 1\n",
    "",
    "",
    "n = float(input())\n",
    "m = float(input())\n",
    "if n > m:\n",
    "    print(m)\n",
    "else:\n",
    "    print(n)"
   ]
  },
  {
   "cell_type": "code",
   "execution_count": 2,
   "id": "43fffde1",
   "metadata": {},
   "outputs": [
    {
     "name": "stdout",
     "output_type": "stream",
     "text": [
      "57\n",
      "76\n",
      "90\n",
      "57.0\n"
     ]
    }
   ],
   "source": [
    "",
    "Задание 2\n",
    "",
    "",
    "n = float(input())\n",
    "m = float(input())\n",
    "l = float(input())\n",
    "\n",
    "min1 = 0\n",
    "if n > m:\n",
    "    min1 = m\n",
    "else:\n",
    "    min1 = n\n",
    "if l > min1:\n",
    "    print(min1)\n",
    "else:\n",
    "    print(l)"
   ]
  },
  {
   "cell_type": "code",
   "execution_count": 3,
   "id": "83bf7ecf",
   "metadata": {},
   "outputs": [
    {
     "name": "stdout",
     "output_type": "stream",
     "text": [
      "3\n",
      "4\n",
      "5\n",
      "0\n"
     ]
    }
   ],
   "source": [
    "",
    "Задание 3\n",
    "",
    "",
    "n = float(input())\n",
    "m = float(input())\n",
    "l = float(input())\n",
    "\n",
    "if n == m == l:\n",
    "    print(3)\n",
    "elif n == m and n != l:\n",
    "    print(2)\n",
    "elif n == l and n != m:\n",
    "    print(2)\n",
    "elif m == l and m != n:\n",
    "    print(2)\n",
    "else:\n",
    "    print(0)"
   ]
  }
 ],
 "metadata": {
  "kernelspec": {
   "display_name": "Python 3 (ipykernel)",
   "language": "python",
   "name": "python3"
  },
  "language_info": {
   "codemirror_mode": {
    "name": "ipython",
    "version": 3
   },
   "file_extension": ".py",
   "mimetype": "text/x-python",
   "name": "python",
   "nbconvert_exporter": "python",
   "pygments_lexer": "ipython3",
   "version": "3.10.0"
  }
 },
 "nbformat": 4,
 "nbformat_minor": 5
}
